{
  "nbformat": 4,
  "nbformat_minor": 0,
  "metadata": {
    "colab": {
      "provenance": [],
      "authorship_tag": "ABX9TyPWLEsykHfQ72CQIcxDM4+b",
      "include_colab_link": true
    },
    "kernelspec": {
      "name": "python3",
      "display_name": "Python 3"
    },
    "language_info": {
      "name": "python"
    }
  },
  "cells": [
    {
      "cell_type": "markdown",
      "metadata": {
        "id": "view-in-github",
        "colab_type": "text"
      },
      "source": [
        "<a href=\"https://colab.research.google.com/github/mmosquera355/retoFapro/blob/main/desafioFaproColab.ipynb\" target=\"_parent\"><img src=\"https://colab.research.google.com/assets/colab-badge.svg\" alt=\"Open In Colab\"/></a>"
      ]
    },
    {
      "cell_type": "code",
      "source": [
        "# Author : M Angélica Mosquera Moreno\n",
        "# Version: 1.0\n",
        "# Date   : May 10, 2023\n",
        "# Funcionalidad : el script lanzará una URL ngrok, ejemplo: https://dfe8-35-196-113-149.ngrok.io, para realizar la\n",
        "#                 llamada a la API adicionar /consultarUF?fecha=2023-05-9, el formato de fecha es AÑO-MES-DIA\n",
        "!pip install fastapi nest-asyncio pyngrok uvicorn"
      ],
      "metadata": {
        "colab": {
          "base_uri": "https://localhost:8080/"
        },
        "id": "wQrXIOQozsWg",
        "outputId": "5be5abb7-c4e0-4bdf-86df-5841dd9fe4ab"
      },
      "execution_count": 1,
      "outputs": [
        {
          "output_type": "stream",
          "name": "stdout",
          "text": [
            "Looking in indexes: https://pypi.org/simple, https://us-python.pkg.dev/colab-wheels/public/simple/\n",
            "Collecting fastapi\n",
            "  Downloading fastapi-0.95.1-py3-none-any.whl (56 kB)\n",
            "\u001b[2K     \u001b[90m━━━━━━━━━━━━━━━━━━━━━━━━━━━━━━━━━━━━━━━\u001b[0m \u001b[32m57.0/57.0 kB\u001b[0m \u001b[31m357.3 kB/s\u001b[0m eta \u001b[36m0:00:00\u001b[0m\n",
            "\u001b[?25hRequirement already satisfied: nest-asyncio in /usr/local/lib/python3.10/dist-packages (1.5.6)\n",
            "Collecting pyngrok\n",
            "  Downloading pyngrok-6.0.0.tar.gz (681 kB)\n",
            "\u001b[2K     \u001b[90m━━━━━━━━━━━━━━━━━━━━━━━━━━━━━━━━━━━━━━\u001b[0m \u001b[32m681.2/681.2 kB\u001b[0m \u001b[31m15.7 MB/s\u001b[0m eta \u001b[36m0:00:00\u001b[0m\n",
            "\u001b[?25h  Preparing metadata (setup.py) ... \u001b[?25l\u001b[?25hdone\n",
            "Collecting uvicorn\n",
            "  Downloading uvicorn-0.22.0-py3-none-any.whl (58 kB)\n",
            "\u001b[2K     \u001b[90m━━━━━━━━━━━━━━━━━━━━━━━━━━━━━━━━━━━━━━━━\u001b[0m \u001b[32m58.3/58.3 kB\u001b[0m \u001b[31m3.1 MB/s\u001b[0m eta \u001b[36m0:00:00\u001b[0m\n",
            "\u001b[?25hRequirement already satisfied: pydantic!=1.7,!=1.7.1,!=1.7.2,!=1.7.3,!=1.8,!=1.8.1,<2.0.0,>=1.6.2 in /usr/local/lib/python3.10/dist-packages (from fastapi) (1.10.7)\n",
            "Collecting starlette<0.27.0,>=0.26.1 (from fastapi)\n",
            "  Downloading starlette-0.26.1-py3-none-any.whl (66 kB)\n",
            "\u001b[2K     \u001b[90m━━━━━━━━━━━━━━━━━━━━━━━━━━━━━━━━━━━━━━━━\u001b[0m \u001b[32m66.9/66.9 kB\u001b[0m \u001b[31m2.1 MB/s\u001b[0m eta \u001b[36m0:00:00\u001b[0m\n",
            "\u001b[?25hRequirement already satisfied: PyYAML in /usr/local/lib/python3.10/dist-packages (from pyngrok) (6.0)\n",
            "Requirement already satisfied: click>=7.0 in /usr/local/lib/python3.10/dist-packages (from uvicorn) (8.1.3)\n",
            "Collecting h11>=0.8 (from uvicorn)\n",
            "  Downloading h11-0.14.0-py3-none-any.whl (58 kB)\n",
            "\u001b[2K     \u001b[90m━━━━━━━━━━━━━━━━━━━━━━━━━━━━━━━━━━━━━━━━\u001b[0m \u001b[32m58.3/58.3 kB\u001b[0m \u001b[31m2.6 MB/s\u001b[0m eta \u001b[36m0:00:00\u001b[0m\n",
            "\u001b[?25hRequirement already satisfied: typing-extensions>=4.2.0 in /usr/local/lib/python3.10/dist-packages (from pydantic!=1.7,!=1.7.1,!=1.7.2,!=1.7.3,!=1.8,!=1.8.1,<2.0.0,>=1.6.2->fastapi) (4.5.0)\n",
            "Requirement already satisfied: anyio<5,>=3.4.0 in /usr/local/lib/python3.10/dist-packages (from starlette<0.27.0,>=0.26.1->fastapi) (3.6.2)\n",
            "Requirement already satisfied: idna>=2.8 in /usr/local/lib/python3.10/dist-packages (from anyio<5,>=3.4.0->starlette<0.27.0,>=0.26.1->fastapi) (3.4)\n",
            "Requirement already satisfied: sniffio>=1.1 in /usr/local/lib/python3.10/dist-packages (from anyio<5,>=3.4.0->starlette<0.27.0,>=0.26.1->fastapi) (1.3.0)\n",
            "Building wheels for collected packages: pyngrok\n",
            "  Building wheel for pyngrok (setup.py) ... \u001b[?25l\u001b[?25hdone\n",
            "  Created wheel for pyngrok: filename=pyngrok-6.0.0-py3-none-any.whl size=19867 sha256=8757f080b045f9c261e7874da5594a321038bd6779a65d21e44af8c3afbb6078\n",
            "  Stored in directory: /root/.cache/pip/wheels/5c/42/78/0c3d438d7f5730451a25f7ac6cbf4391759d22a67576ed7c2c\n",
            "Successfully built pyngrok\n",
            "Installing collected packages: pyngrok, h11, uvicorn, starlette, fastapi\n",
            "Successfully installed fastapi-0.95.1 h11-0.14.0 pyngrok-6.0.0 starlette-0.26.1 uvicorn-0.22.0\n"
          ]
        }
      ]
    },
    {
      "cell_type": "code",
      "source": [
        "\n",
        "from fastapi import FastAPI\n",
        "from fastapi.middleware.cors import CORSMiddleware\n",
        "from fastapi import FastAPI\n",
        "import pandas as pd\n",
        "import datetime\n",
        "from   datetime import date\n",
        "import json\n",
        "import nest_asyncio\n",
        "from pyngrok import ngrok\n",
        "import uvicorn\n",
        "from fastapi import Response\n",
        "\n",
        "app = FastAPI()\n",
        "\n",
        "app.add_middleware(\n",
        "    CORSMiddleware,\n",
        "    allow_origins=['*'],\n",
        "    allow_credentials=True,\n",
        "    allow_methods=['*'],\n",
        "    allow_headers=['*'],\n",
        ")\n",
        "\n",
        "def validar(valor):\n",
        "  try:\n",
        "\t  entero = int(valor)\n",
        "  except ValueError:\n",
        "    return False #si la conversión falla devolvemos False\n",
        "\n",
        "  return True\n",
        "\n",
        "\n",
        "fechaMinima = date(int('2013'), int('01'), int('01'))\n",
        "fechaMaxima = datetime.datetime.now()\n",
        "\n",
        "\n",
        "@app.get(\"/\")\n",
        "async def root():\n",
        "  URLexample = \"/consultarUF?fecha=2023-5-9\"\n",
        "  return {'Hola! Para realizar la consulta deberas completar la URL abierta con el ejemplo al final del texto, recuerda que la fecha de esta en formato año-mes-dia ': URLexample}\n",
        "\n",
        "@app.get(\"/consultarUF\")\n",
        "async def consultarUF(fecha: str):\n",
        "  \n",
        "  fechaCon = fecha.split(\"-\")\n",
        "  print(fechaCon)\n",
        "  year     = fechaCon[0]\n",
        "  month    = fechaCon[1]\n",
        "  day      = fechaCon[2]\n",
        "\n",
        "  validoYear = False\n",
        "  validoYear = validar(year)\n",
        "  \n",
        "  if validoYear == True:\n",
        "    if int(year) < 2013 or int(year) > fechaMaxima.year:\n",
        "      validoYear = False\n",
        "\n",
        "  validoMonth = False\n",
        "  validoMonth = validar(month)\n",
        "  if validoMonth == True:\n",
        "    if int(month) < 1 or int(month) > 12:\n",
        "      validoMonth = False\n",
        "\n",
        "    if int(year) == fechaMaxima.year:\n",
        "      if int(month) > fechaMaxima.month:\n",
        "        validoMonth = False\n",
        "\n",
        "  validoDay = False\n",
        "  validoDay = validar(day)\n",
        "  if validoDay == True:\n",
        "    if int(month) == fechaMaxima.month:\n",
        "      if int(day) > fechaMaxima.day:\n",
        "        validoDay = False\n",
        "\n",
        "  valido = True\n",
        "\n",
        "  if validoDay is True and validoMonth is True and validoYear is True:\n",
        "    try:\n",
        "      fechaConsulta = date(int(year), int(month), int(day))\n",
        "    except ValueError:\n",
        "      valido = False\n",
        "      response = \"Ingresó una fecha invalida, por favor ingresar una fecha correcta: AÑO-MES-DIA\"\n",
        "  else:\n",
        "    valido = False\n",
        "    response = \"Ingresó una fecha invalida, por favor ingresar una fecha correcta: AÑO-MES-DIA\"\n",
        "\n",
        "  #Consulta de tablas de la URl\n",
        "  if valido is not False and validoDay is True and validoMonth is True and validoYear is True:\n",
        "    urlBase = \"http://www.sii.cl/valores_y_fechas/uf/uf\"\n",
        "    url     = urlBase + str(year) + \".htm\"\n",
        "\n",
        "    tablaUF = pd.read_html(url)\n",
        "\n",
        "    UF = pd.DataFrame(tablaUF[len(tablaUF)-1])\n",
        "    del(UF['Día'])\n",
        "    UF.columns = ['01', '02', '03', '04', '05', '06', '07', '08', '09', '10', '11', '12']\n",
        "\n",
        "    print(\"El valor UF para la fecha de consulta es: \" + UF[month][int(day)-1])\n",
        "    print(\"Verificar en: \" + url)\n",
        "    #Respuesta JSON\n",
        "    dic = {'fechaConsulta': fecha, 'ValorUF':UF[month][int(day)-1], 'url':url}\n",
        "    response = json.dumps(dic, indent=4, sort_keys=True, default=str)\n",
        "    print(response)\n",
        "\n",
        "  return Response(content=response, media_type=\"application/json\")\n",
        "\n"
      ],
      "metadata": {
        "id": "2EzBnlHxukwB"
      },
      "execution_count": 6,
      "outputs": []
    },
    {
      "cell_type": "code",
      "source": [
        "ngrok_tunnel = ngrok.connect(8000)\n",
        "print('Public URL:', ngrok_tunnel.public_url)\n",
        "nest_asyncio.apply()\n",
        "uvicorn.run(app, port=8000)"
      ],
      "metadata": {
        "colab": {
          "base_uri": "https://localhost:8080/"
        },
        "id": "g3ZYbkmOuygK",
        "outputId": "dbddf157-c774-4b1b-94cd-d5f39ec3333b"
      },
      "execution_count": 7,
      "outputs": [
        {
          "output_type": "stream",
          "name": "stderr",
          "text": [
            "WARNING:pyngrok.process.ngrok:t=2023-05-10T14:20:23+0000 lvl=warn msg=\"ngrok config file found at legacy location, move to XDG location\" xdg_path=/root/.config/ngrok/ngrok.yml legacy_path=/root/.ngrok2/ngrok.yml\n"
          ]
        },
        {
          "output_type": "stream",
          "name": "stdout",
          "text": [
            "Public URL: https://035a-104-155-215-56.ngrok.io\n"
          ]
        },
        {
          "output_type": "stream",
          "name": "stderr",
          "text": [
            "INFO:     Started server process [821]\n",
            "INFO:     Waiting for application startup.\n",
            "INFO:     Application startup complete.\n",
            "INFO:     Uvicorn running on http://127.0.0.1:8000 (Press CTRL+C to quit)\n"
          ]
        },
        {
          "output_type": "stream",
          "name": "stdout",
          "text": [
            "INFO:     2803:1800:11c7:8000:6973:43f1:9bc7:ba94:0 - \"GET / HTTP/1.1\" 200 OK\n",
            "['2023', '05', '05']\n",
            "El valor UF para la fecha de consulta es: 35.903,96\n",
            "Verificar en: http://www.sii.cl/valores_y_fechas/uf/uf2023.htm\n",
            "{\n",
            "    \"ValorUF\": \"35.903,96\",\n",
            "    \"fechaConsulta\": \"2023-05-05\",\n",
            "    \"url\": \"http://www.sii.cl/valores_y_fechas/uf/uf2023.htm\"\n",
            "}\n",
            "INFO:     2803:1800:11c7:8000:6973:43f1:9bc7:ba94:0 - \"GET /consultarUF?fecha=2023-05-05 HTTP/1.1\" 200 OK\n",
            "INFO:     2803:1800:11c7:8000:6973:43f1:9bc7:ba94:0 - \"GET /favicon.ico HTTP/1.1\" 404 Not Found\n"
          ]
        },
        {
          "output_type": "stream",
          "name": "stderr",
          "text": [
            "INFO:     Shutting down\n",
            "INFO:     Waiting for application shutdown.\n",
            "INFO:     Application shutdown complete.\n",
            "INFO:     Finished server process [821]\n"
          ]
        }
      ]
    }
  ]
}